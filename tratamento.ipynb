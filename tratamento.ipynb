{
 "cells": [
  {
   "cell_type": "markdown",
   "metadata": {},
   "source": [
    "> Importando bibliotecas    "
   ]
  },
  {
   "cell_type": "code",
   "execution_count": 1,
   "metadata": {},
   "outputs": [],
   "source": [
    "import pandas as pd"
   ]
  },
  {
   "cell_type": "markdown",
   "metadata": {},
   "source": [
    ">Importando bases de dados"
   ]
  },
  {
   "cell_type": "code",
   "execution_count": 5,
   "metadata": {},
   "outputs": [],
   "source": [
    "def importar(arquivo): return pd.read_csv(f'bases/{arquivo}')\n",
    "dados_categorias = importar('data_categorias.csv')\n",
    "dados_clientes = importar('data_clientes.csv')\n",
    "dados_lojas = importar('data_lojas.csv')\n",
    "dados_produtos = importar('data_produtos.csv')\n",
    "dados_vendas = importar('data_vendas.csv')"
   ]
  },
  {
   "cell_type": "markdown",
   "metadata": {},
   "source": [
    "> Correções:\n",
    "*Alterar o tipo de dado das datas\n",
    "*Remover R$ dos valores\n",
    "*Consolidar as bases\n",
    "*Remover colunas de ID\n",
    "*Criar a coluna de Total\n",
    "*Salvar o novo data_set"
   ]
  },
  {
   "cell_type": "code",
   "execution_count": 6,
   "metadata": {},
   "outputs": [],
   "source": [
    "dados_vendas['dt_Venda'] = pd.to_datetime(dados_vendas['dt_Venda'])\n"
   ]
  },
  {
   "cell_type": "code",
   "execution_count": null,
   "metadata": {},
   "outputs": [],
   "source": [
    "dados_produtos['Preço Unitário'] = dados_produtos['Preço Unitário'].str.lstrip('R$ ')\n",
    "dados_produtos['Preço Unitário'] = dados_produtos['Preço Unitário'].astype(int)"
   ]
  },
  {
   "cell_type": "code",
   "execution_count": 17,
   "metadata": {},
   "outputs": [
    {
     "data": {
      "text/plain": [
       "Index(['id_Venda', 'fk_Cliente', 'fk_Produto', 'fk_Loja', 'Quantidade',\n",
       "       'dt_Venda', 'id_Cliente', 'Cliente', 'Email'],\n",
       "      dtype='object')"
      ]
     },
     "execution_count": 17,
     "metadata": {},
     "output_type": "execute_result"
    }
   ],
   "source": [
    "dados_consolidados = pd.merge(\n",
    "    dados_vendas, dados_clientes, \n",
    "    left_on='fk_Cliente', right_on = 'id_Cliente',\n",
    "    how='left'\n",
    "    )\n"
   ]
  },
  {
   "cell_type": "code",
   "execution_count": 29,
   "metadata": {},
   "outputs": [],
   "source": [
    "dados_consolidados = pd.merge(\n",
    "    dados_consolidados, dados_produtos,\n",
    "    left_on='fk_Produto', right_on='id_Produto',\n",
    "    how='right'\n",
    ")"
   ]
  },
  {
   "cell_type": "code",
   "execution_count": 32,
   "metadata": {},
   "outputs": [],
   "source": [
    "dados_consolidados = pd.merge(\n",
    "    dados_consolidados, dados_lojas,\n",
    "    left_on='fk_Loja', right_on='id_Loja',\n",
    "    how='right'\n",
    ")\n"
   ]
  },
  {
   "cell_type": "code",
   "execution_count": 33,
   "metadata": {},
   "outputs": [],
   "source": [
    "dados_consolidados = pd.merge(\n",
    "    dados_consolidados, dados_categorias,\n",
    "    left_on='fk_Categoria', right_on='id_Categoria',\n",
    "    how='right'\n",
    ")\n"
   ]
  },
  {
   "cell_type": "code",
   "execution_count": null,
   "metadata": {},
   "outputs": [],
   "source": [
    "try:\n",
    "    dados_consolidados = dados_consolidados.drop(\n",
    "    ['fk_Categoria', 'fk_Cliente', 'fk_Loja', 'fk_Produto'], axis=1)\n",
    "except KeyError:\n",
    "    print('Confira os nomes das colunas!')"
   ]
  },
  {
   "cell_type": "code",
   "execution_count": 39,
   "metadata": {},
   "outputs": [],
   "source": [
    "dados_consolidados['Total']=dados_consolidados['Preço Unitário']*dados_consolidados['Quantidade']"
   ]
  },
  {
   "cell_type": "code",
   "execution_count": 43,
   "metadata": {},
   "outputs": [],
   "source": [
    "dados_consolidados.to_csv('bases/dado_completos.csv', index=False)"
   ]
  }
 ],
 "metadata": {
  "kernelspec": {
   "display_name": "Python 3",
   "language": "python",
   "name": "python3"
  },
  "language_info": {
   "codemirror_mode": {
    "name": "ipython",
    "version": 3
   },
   "file_extension": ".py",
   "mimetype": "text/x-python",
   "name": "python",
   "nbconvert_exporter": "python",
   "pygments_lexer": "ipython3",
   "version": "3.11.9"
  }
 },
 "nbformat": 4,
 "nbformat_minor": 2
}
